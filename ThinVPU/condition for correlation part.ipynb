{
 "cells": [
  {
   "cell_type": "code",
   "execution_count": null,
   "metadata": {},
   "outputs": [],
   "source": [
    "#adding the 'the Result' column to the data frame  \n",
    "conditions = [\n",
    "    (df_all['MILES'] == '0'),\n",
    "    (df_all['MILES'] =< '10'), \n",
    "\n",
    "    ]\n",
    "\n",
    "# create a list of the values we want to assign for each condition\n",
    "values = ['Exact Matched', 'Matche with 10 miles errors']\n",
    "\n",
    "# create a new column and use np.select to assign values to it using our lists as arguments\n",
    "states['The Result'] = np.select(conditions, values)"
   ]
  }
 ],
 "metadata": {
  "kernelspec": {
   "display_name": "Python 3",
   "language": "python",
   "name": "python3"
  },
  "language_info": {
   "codemirror_mode": {
    "name": "ipython",
    "version": 3
   },
   "file_extension": ".py",
   "mimetype": "text/x-python",
   "name": "python",
   "nbconvert_exporter": "python",
   "pygments_lexer": "ipython3",
   "version": "3.7.1"
  }
 },
 "nbformat": 4,
 "nbformat_minor": 2
}
